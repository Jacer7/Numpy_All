{
 "cells": [
  {
   "cell_type": "code",
   "execution_count": 10,
   "metadata": {},
   "outputs": [],
   "source": [
    "import numpy as np\n",
    "from math import *\n",
    "import random"
   ]
  },
  {
   "cell_type": "code",
   "execution_count": 3,
   "metadata": {},
   "outputs": [],
   "source": [
    "Lnp=np.array([8,9,1,2,4,3,7,6,11])\n",
    "Llist=[0,3,5,1,7,9]\n"
   ]
  },
  {
   "cell_type": "markdown",
   "metadata": {},
   "source": [
    "# Sorting  in Decreasing Order  with Numpy"
   ]
  },
  {
   "cell_type": "code",
   "execution_count": 4,
   "metadata": {},
   "outputs": [
    {
     "name": "stdout",
     "output_type": "stream",
     "text": [
      "[11  9  8  7  6  4  3  2  1]\n"
     ]
    }
   ],
   "source": [
    "# A First Trick to Sort in Decreasing Order   but with Numpy\n",
    "L=-np.sort(-L) \n",
    "print(L)"
   ]
  },
  {
   "cell_type": "code",
   "execution_count": 5,
   "metadata": {},
   "outputs": [
    {
     "name": "stdout",
     "output_type": "stream",
     "text": [
      "[ 8  9  1  2  4  3  7  6 11]\n",
      "[11  9  8  7  6  4  3  2  1]\n"
     ]
    }
   ],
   "source": [
    "# A Second Trick to Sort in Decreasing Order    \n",
    "L=np.array([8,9,1,2,4,3,7,6,11])\n",
    "L_copy = np.sort(L)[::-1]\n",
    "print(L)\n",
    "print(L_copy)"
   ]
  },
  {
   "cell_type": "markdown",
   "metadata": {},
   "source": [
    "# Sorting  in Decreasing Order  without Numpy"
   ]
  },
  {
   "cell_type": "code",
   "execution_count": 16,
   "metadata": {},
   "outputs": [
    {
     "data": {
      "text/plain": [
       "[10, 7, 6, 4, 2, 1, 0]"
      ]
     },
     "execution_count": 16,
     "metadata": {},
     "output_type": "execute_result"
    }
   ],
   "source": [
    "L=[2,4,7,1,0,6,10] ;\n",
    "sorted(L,reverse=True)"
   ]
  },
  {
   "cell_type": "code",
   "execution_count": 55,
   "metadata": {},
   "outputs": [
    {
     "name": "stdout",
     "output_type": "stream",
     "text": [
      "[1, 2, 3, 4, 5]\n",
      "[5, 4, 3, 2, 1]\n"
     ]
    }
   ],
   "source": [
    "# Another Trick \n",
    "L= [3,2,1,4,5]\n",
    "L.sort()\n",
    "print(L)\n",
    "L=L[::-1]\n",
    "print(L)"
   ]
  },
  {
   "cell_type": "markdown",
   "metadata": {},
   "source": [
    "## Randomly Generation of an array  with Numpy"
   ]
  },
  {
   "cell_type": "code",
   "execution_count": 4,
   "metadata": {},
   "outputs": [],
   "source": [
    "Capacity=100\n",
    "L = np.array([ np.random.randint(1,Capacity) for i in range(Capacity) ])\n",
    "#print(L)"
   ]
  },
  {
   "cell_type": "markdown",
   "metadata": {},
   "source": [
    "## Randomly Generation of an array  without Numpy"
   ]
  },
  {
   "cell_type": "code",
   "execution_count": 34,
   "metadata": {},
   "outputs": [
    {
     "name": "stdout",
     "output_type": "stream",
     "text": [
      "[81 77 15 47 71 62 11 41 17 29 33 75  6 62  4 94 44 84 52 46 20 29 88 85\n",
      " 56 89 53 45 28 89 33 72 45 32 18 23 40 28 86 47 61 70 34 13 79 74 12 47\n",
      " 93 31  1 31 23 39 24 58 39 79 25 34 80 83 67 78 34 92 33 60 89 48  4 38\n",
      " 39 93 44 29 21 87 43 81 73 93 74 36  5 94 55 94 26 72 98 47 23 79 22 49\n",
      " 81 62 29 54]\n"
     ]
    }
   ],
   "source": [
    "Capacity=100\n",
    "N=10\n",
    "List = [random.randint(1, Capacity) for i in range(N) ]\n",
    "print(L)"
   ]
  },
  {
   "cell_type": "markdown",
   "metadata": {},
   "source": [
    "# Interlacing / Interweaving"
   ]
  },
  {
   "cell_type": "code",
   "execution_count": null,
   "metadata": {},
   "outputs": [],
   "source": [
    "# With Numpy\n",
    "# You have to rewrite  it without Numpy"
   ]
  },
  {
   "cell_type": "code",
   "execution_count": 4,
   "metadata": {},
   "outputs": [],
   "source": [
    "def Interlacing(a, b):\n",
    "    c = np.empty((a.size + b.size,), dtype=a.dtype)\n",
    "    c[0::2] = a\n",
    "    c[1::2] = b\n",
    "    return c"
   ]
  },
  {
   "cell_type": "code",
   "execution_count": 8,
   "metadata": {},
   "outputs": [
    {
     "name": "stdout",
     "output_type": "stream",
     "text": [
      "9\n",
      "8\n",
      "[  8 118   9 119   1 111   2 112   4 114   3 113   7 117   6 116  11]\n"
     ]
    }
   ],
   "source": [
    "L1=np.array([8,9,1,2,4,3,7,6,11])\n",
    "print(len(L1))\n",
    "L2=np.array([118,119,111,112,114,113,117,116])\n",
    "L12=Interlacing(L1,L2)\n",
    "print(len(L2))\n",
    "print(L12)"
   ]
  },
  {
   "cell_type": "markdown",
   "metadata": {},
   "source": [
    "##  How to verify that a 1D array has the \"same\" values that a 2D array ?"
   ]
  },
  {
   "cell_type": "code",
   "execution_count": 14,
   "metadata": {},
   "outputs": [],
   "source": [
    "# A LIST\n",
    "L1=[442,\n",
    "252,252,252,252,252,252,252,\n",
    "127,127,127,127,127,\n",
    "106,106,106,106,\n",
    "85,84,46,\n",
    "37,37,\n",
    "12,12,12,\n",
    "10,10,10,10,10,10,\n",
    "9,9]"
   ]
  },
  {
   "cell_type": "code",
   "execution_count": 15,
   "metadata": {},
   "outputs": [],
   "source": [
    "#A LIST OF LIST \n",
    "L2=[[442, 46, 12, 12, 12], \n",
    "             [252, 252, 10, 10], \n",
    "             [252, 252, 10, 10], \n",
    "             [252, 252, 10, 10], \n",
    "             [252, 127, 127, 9, 9], \n",
    "             [127, 127, 127, 106, 37], \n",
    "             [106, 106, 106, 85, 84, 37]]            "
   ]
  },
  {
   "cell_type": "code",
   "execution_count": 16,
   "metadata": {},
   "outputs": [
    {
     "name": "stdout",
     "output_type": "stream",
     "text": [
      "[442, 46, 12, 12, 12, 252, 252, 10, 10, 252, 252, 10, 10, 252, 252, 10, 10, 252, 127, 127, 9, 9, 127, 127, 127, 106, 37, 106, 106, 106, 85, 84, 37]\n"
     ]
    }
   ],
   "source": [
    "# A FLATTEN FUNCTION\n",
    "def forfor(a):\n",
    "    return [item for sublist in a for item in sublist]\n",
    "print(forfor(L2))\n"
   ]
  },
  {
   "cell_type": "code",
   "execution_count": 17,
   "metadata": {},
   "outputs": [],
   "source": [
    "L2=forfor(L2)"
   ]
  },
  {
   "cell_type": "code",
   "execution_count": 18,
   "metadata": {},
   "outputs": [
    {
     "data": {
      "text/plain": [
       "False"
      ]
     },
     "execution_count": 18,
     "metadata": {},
     "output_type": "execute_result"
    }
   ],
   "source": [
    "L1==L2"
   ]
  },
  {
   "cell_type": "code",
   "execution_count": 19,
   "metadata": {},
   "outputs": [
    {
     "data": {
      "text/plain": [
       "True"
      ]
     },
     "execution_count": 19,
     "metadata": {},
     "output_type": "execute_result"
    }
   ],
   "source": [
    "# BUT \n",
    "sorted(L1)==sorted(L2)"
   ]
  },
  {
   "cell_type": "markdown",
   "metadata": {},
   "source": [
    "## Concatenation  of to Lists (without Numpy)"
   ]
  },
  {
   "cell_type": "code",
   "execution_count": 21,
   "metadata": {},
   "outputs": [
    {
     "name": "stdout",
     "output_type": "stream",
     "text": [
      "[1, 2, 3, 4, 5, 6, 7, 8, 9, 10]\n"
     ]
    }
   ],
   "source": [
    "# 1st method \n",
    "L=[1,2,3,4]    \n",
    "L.extend([5,6,7,8,9,10])\n",
    "print(L)"
   ]
  },
  {
   "cell_type": "code",
   "execution_count": 20,
   "metadata": {},
   "outputs": [
    {
     "name": "stdout",
     "output_type": "stream",
     "text": [
      "[1, 2, 3, 3, 4, 5]\n"
     ]
    }
   ],
   "source": [
    "# 2d method \n",
    "L1=[1,2,3]\n",
    "L2=[3,4,5]\n",
    "L=L1+L2\n",
    "print(L)"
   ]
  },
  {
   "cell_type": "markdown",
   "metadata": {},
   "source": [
    "##  Some tests: Testa & Testb"
   ]
  },
  {
   "cell_type": "code",
   "execution_count": 32,
   "metadata": {},
   "outputs": [],
   "source": [
    "def Testa(n,a,b,c,Capacity):\n",
    "    L=np.zeros(n,dtype=int)    \n",
    "    L[[0]]=a\n",
    "    L[[1]]=b\n",
    "    L[[2]]=c    \n",
    "    for i in range(3,n):\n",
    "        L[[i]]=(L[[i-1]]+L[[i-2]])% Capacity        \n",
    "    return L    "
   ]
  },
  {
   "cell_type": "code",
   "execution_count": 30,
   "metadata": {},
   "outputs": [],
   "source": [
    "def Testb(n,a,b,c,Capacity):\n",
    "    L=np.zeros(n,dtype=int)    \n",
    "    L[[0]]=a\n",
    "    L[[1]]=b\n",
    "    L[[2]]=c    \n",
    "    for i in range(3,n):\n",
    "        L[[i]]=(L[[i-1]]+L[[i-2]]*L[[i-3]])% Capacity        \n",
    "    return L    "
   ]
  },
  {
   "cell_type": "code",
   "execution_count": 35,
   "metadata": {},
   "outputs": [
    {
     "data": {
      "text/plain": [
       "array([51, 27, 23, 50, 73, 23, 96, 19, 15, 34])"
      ]
     },
     "execution_count": 35,
     "metadata": {},
     "output_type": "execute_result"
    }
   ],
   "source": [
    "# \n",
    "Capacity=100\n",
    "n=10\n",
    "a=51\n",
    "b=27\n",
    "c=23\n",
    "Testa(n,a,b,c,Capacity)"
   ]
  },
  {
   "cell_type": "code",
   "execution_count": 36,
   "metadata": {},
   "outputs": [
    {
     "data": {
      "text/plain": [
       "array([51, 27, 23,  0, 21, 21, 21, 62,  3,  5])"
      ]
     },
     "execution_count": 36,
     "metadata": {},
     "output_type": "execute_result"
    }
   ],
   "source": [
    "# \n",
    "Capacity=100\n",
    "n=10\n",
    "a=51\n",
    "b=27\n",
    "c=23\n",
    "Testb(n,a,b,c,Capacity)"
   ]
  },
  {
   "cell_type": "code",
   "execution_count": null,
   "metadata": {},
   "outputs": [],
   "source": []
  }
 ],
 "metadata": {
  "kernelspec": {
   "display_name": "Python 3",
   "language": "python",
   "name": "python3"
  },
  "language_info": {
   "codemirror_mode": {
    "name": "ipython",
    "version": 3
   },
   "file_extension": ".py",
   "mimetype": "text/x-python",
   "name": "python",
   "nbconvert_exporter": "python",
   "pygments_lexer": "ipython3",
   "version": "3.8.5"
  }
 },
 "nbformat": 4,
 "nbformat_minor": 4
}
